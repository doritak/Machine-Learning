{
 "cells": [
  {
   "cell_type": "markdown",
   "metadata": {},
   "source": [
    "# Actividad 1 de Curso 4: Exploración de Datos en Python\n",
    "## Autor: Dora Novoa"
   ]
  },
  {
   "cell_type": "code",
   "execution_count": null,
   "metadata": {},
   "outputs": [],
   "source": [
    "import pandas as pd\n",
    "# 2.1 Lectura y análisis exploratorio de datos\n",
    "df = pd.read_csv(\"ejemplo data.csv\", encoding=\"latin-1\", sep=\",\")\n",
    "print(df.dtypes)\n",
    "df[\"ID\"] = df[\"ID\"].astype(\"int64\")\n",
    "df[\"Activo\"] = df[\"Activo\"].astype(\"bool\")\n",
    "print(df.info())\n",
    "df[\"unidades\"] = df[\"unidades\"].astype(\"int64\")\n",
    "df[\"2016\"] = df[\"2016\"].astype(\"float64\")\n",
    "\n"
   ]
  },
  {
   "cell_type": "code",
   "execution_count": null,
   "metadata": {},
   "outputs": [],
   "source": [
    "import pandas as pd\n",
    "# 2.2 Lectura y análisis exploratorio de datos 2\n",
    "df2 = pd.read_csv(\"ecommerce data.csv\", encoding=\"latin-1\", sep=\",\")\n",
    "print(df.dtypes)\n",
    "df2[\"InvoiceNo\"] = df2[\"InvoiceNo\"].astype(\"int64\")\n",
    "df2[\"Description\"] = df2[\"Description\"].astype(\"str\")\n",
    "print(df2.info())\n",
    "df2[\"Quantity\"] = df2[\"Quantity\"].astype(\"int64\")\n",
    "df2[\"UnitPrice\"] = df2[\"UnitPrice\"].astype(\"float64\")\n",
    "df2[[\"fecha\", \"hora\"]] = df2[\"InvoiceDate\"].str.split(\"-\", expand=True)\n",
    "df2[\"Monto Total\"] = df2[\"Quantity\"] * df2[\"UnitPrice\"]\n",
    "df2.to_csv(\"ecommerce data.csv\", index=False)\n",
    "# Exploracion de funciones groupby, sort values, set index, sample, pivot, reset index y merge."
   ]
  },
  {
   "cell_type": "code",
   "execution_count": 22,
   "metadata": {},
   "outputs": [
    {
     "name": "stdout",
     "output_type": "stream",
     "text": [
      "Estadisticas descriptivas de las columnas: \n",
      "            Col 1       Col 2       Col 3\n",
      "count   50.000000   50.000000   50.000000\n",
      "mean    51.000000   76.500000  126.500000\n",
      "std     29.154759   43.732139   72.886899\n",
      "min      2.000000    3.000000    4.000000\n",
      "25%     26.500000   39.750000   65.250000\n",
      "50%     51.000000   76.500000  126.500000\n",
      "75%     75.500000  113.250000  187.750000\n",
      "max    100.000000  150.000000  249.000000\n",
      "Desviación estándar: \n",
      "Col 1    29.154759\n",
      "Col 2    43.732139\n",
      "Col 3    72.886899\n",
      "dtype: float64\n",
      "Varianza: \n",
      "Col 1     850.0\n",
      "Col 2    1912.5\n",
      "Col 3    5312.5\n",
      "dtype: float64\n",
      "Rango: \n",
      "Col 1     98\n",
      "Col 2    147\n",
      "Col 3    245\n",
      "dtype: int64\n",
      "IQR: \n",
      "Col 1     49.0\n",
      "Col 2     73.5\n",
      "Col 3    122.5\n",
      "dtype: float64\n",
      "Coeficiente de variación: \n",
      "Col 1    0.571662\n",
      "Col 2    0.571662\n",
      "Col 3    0.576181\n",
      "dtype: float64\n"
     ]
    }
   ],
   "source": [
    "# 2.3 Estadásticas descriptivas\n",
    "import pandas as pd\n",
    "import numpy as np\n",
    "diccionario = { \"Col 1\": [x*2 for x in range(1,51)], \"Col 2\": [x*3 for x in range(1,51)], \"Col 3\": [x*5-1 for x in range(1,51)]}\n",
    "diccionario\n",
    "df3 = pd.DataFrame(diccionario)\n",
    "print(f\"Estadisticas descriptivas de las columnas: \\n{df3.describe()}\")\n",
    "# Cálculo de las estadísticas de dispersión\n",
    "desviacion_estandar = df3.std()\n",
    "varianza = df3.var()\n",
    "rango = df3.max() - df3.min()\n",
    "IQR = df3.quantile(0.75) - df3.quantile(0.25)\n",
    "coef_var = df3.std() / df3.mean()\n",
    "print(f\"Desviación estándar: \\n{desviacion_estandar}\")\n",
    "print(f\"Varianza: \\n{varianza}\")\n",
    "print(f\"Rango: \\n{rango}\")\n",
    "print(f\"IQR: \\n{IQR}\")\n",
    "print(f\"Coeficiente de variación: \\n{coef_var}\")\n"
   ]
  }
 ],
 "metadata": {
  "kernelspec": {
   "display_name": "Python 3",
   "language": "python",
   "name": "python3"
  },
  "language_info": {
   "codemirror_mode": {
    "name": "ipython",
    "version": 3
   },
   "file_extension": ".py",
   "mimetype": "text/x-python",
   "name": "python",
   "nbconvert_exporter": "python",
   "pygments_lexer": "ipython3",
   "version": "3.13.0"
  }
 },
 "nbformat": 4,
 "nbformat_minor": 2
}
